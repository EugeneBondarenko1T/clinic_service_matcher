{
 "cells": [
  {
   "cell_type": "markdown",
   "metadata": {},
   "source": [
    "# Использование модели метчинга для поиска топ-5 услуг для новых услуг клиник"
   ]
  },
  {
   "cell_type": "code",
   "execution_count": 1,
   "metadata": {},
   "outputs": [
    {
     "name": "stderr",
     "output_type": "stream",
     "text": [
      "/home/evgen/desktop/ranker/.venv/lib/python3.10/site-packages/sentence_transformers/cross_encoder/CrossEncoder.py:13: TqdmExperimentalWarning: Using `tqdm.autonotebook.tqdm` in notebook mode. Use `tqdm.tqdm` instead to force console mode (e.g. in jupyter console)\n",
      "  from tqdm.autonotebook import tqdm, trange\n",
      "2024-09-19 17:48:12.619738: I tensorflow/core/util/port.cc:153] oneDNN custom operations are on. You may see slightly different numerical results due to floating-point round-off errors from different computation orders. To turn them off, set the environment variable `TF_ENABLE_ONEDNN_OPTS=0`.\n",
      "2024-09-19 17:48:12.627792: E external/local_xla/xla/stream_executor/cuda/cuda_fft.cc:485] Unable to register cuFFT factory: Attempting to register factory for plugin cuFFT when one has already been registered\n",
      "2024-09-19 17:48:12.636404: E external/local_xla/xla/stream_executor/cuda/cuda_dnn.cc:8454] Unable to register cuDNN factory: Attempting to register factory for plugin cuDNN when one has already been registered\n",
      "2024-09-19 17:48:12.639087: E external/local_xla/xla/stream_executor/cuda/cuda_blas.cc:1452] Unable to register cuBLAS factory: Attempting to register factory for plugin cuBLAS when one has already been registered\n",
      "2024-09-19 17:48:12.646604: I tensorflow/core/platform/cpu_feature_guard.cc:210] This TensorFlow binary is optimized to use available CPU instructions in performance-critical operations.\n",
      "To enable the following instructions: AVX2 AVX512F AVX512_VNNI AVX512_BF16 FMA, in other operations, rebuild TensorFlow with the appropriate compiler flags.\n",
      "2024-09-19 17:48:13.055889: W tensorflow/compiler/tf2tensorrt/utils/py_utils.cc:38] TF-TRT Warning: Could not find TensorRT\n"
     ]
    }
   ],
   "source": [
    "import pandas as pd\n",
    "import numpy as np\n",
    "\n",
    "from matcher.matcher import SentenceSimilarity\n",
    "from configs.config_matcher import MatcherConfig\n",
    "from utils.compute_metrics import mark, mapk, get_pivot_table\n",
    "from tqdm import tqdm\n",
    "\n",
    "tqdm.pandas()"
   ]
  },
  {
   "cell_type": "code",
   "execution_count": 2,
   "metadata": {},
   "outputs": [],
   "source": [
    "data_matcher = pd.read_csv(\"data/data_for_matcher.csv\")\n",
    "data_valid = pd.read_csv(\"data/data.csv\")"
   ]
  },
  {
   "cell_type": "code",
   "execution_count": 3,
   "metadata": {},
   "outputs": [
    {
     "data": {
      "text/html": [
       "<div>\n",
       "<style scoped>\n",
       "    .dataframe tbody tr th:only-of-type {\n",
       "        vertical-align: middle;\n",
       "    }\n",
       "\n",
       "    .dataframe tbody tr th {\n",
       "        vertical-align: top;\n",
       "    }\n",
       "\n",
       "    .dataframe thead th {\n",
       "        text-align: right;\n",
       "    }\n",
       "</style>\n",
       "<table border=\"1\" class=\"dataframe\">\n",
       "  <thead>\n",
       "    <tr style=\"text-align: right;\">\n",
       "      <th></th>\n",
       "      <th>local_name</th>\n",
       "      <th>local_id</th>\n",
       "      <th>parent_id</th>\n",
       "      <th>type</th>\n",
       "      <th>gt_type_name</th>\n",
       "      <th>parent_id_name</th>\n",
       "      <th>site_active</th>\n",
       "      <th>service_name</th>\n",
       "      <th>lpu_name</th>\n",
       "    </tr>\n",
       "  </thead>\n",
       "  <tbody>\n",
       "    <tr>\n",
       "      <th>3635</th>\n",
       "      <td>Групповое занятие лечебной физкультурой при не...</td>\n",
       "      <td>9283.0</td>\n",
       "      <td>NaN</td>\n",
       "      <td>NaN</td>\n",
       "      <td>NaN</td>\n",
       "      <td>NaN</td>\n",
       "      <td>NaN</td>\n",
       "      <td>Групповое занятие лечебной физкультурой при не...</td>\n",
       "      <td>Медси</td>\n",
       "    </tr>\n",
       "    <tr>\n",
       "      <th>149</th>\n",
       "      <td>Катехоламины (адреналин, норадреналин, дофамин...</td>\n",
       "      <td>6064.0</td>\n",
       "      <td>64.0</td>\n",
       "      <td>laboratory_tests</td>\n",
       "      <td>Биохимия</td>\n",
       "      <td>Лабораторная диагностика</td>\n",
       "      <td>True</td>\n",
       "      <td>Катехоламины в моче (адреналин, норадреналин, ...</td>\n",
       "      <td>Инвитро</td>\n",
       "    </tr>\n",
       "    <tr>\n",
       "      <th>2510</th>\n",
       "      <td>Прием педиатром ребенка повторный, на дому в п...</td>\n",
       "      <td>60.0</td>\n",
       "      <td>NaN</td>\n",
       "      <td>NaN</td>\n",
       "      <td>NaN</td>\n",
       "      <td>NaN</td>\n",
       "      <td>NaN</td>\n",
       "      <td>Прием педиатром ребенка повторный, на дому в п...</td>\n",
       "      <td>Budu СПб</td>\n",
       "    </tr>\n",
       "    <tr>\n",
       "      <th>2506</th>\n",
       "      <td>Нейтрализующие антитела к препаратам интерферо...</td>\n",
       "      <td>6702.0</td>\n",
       "      <td>64.0</td>\n",
       "      <td>laboratory_tests</td>\n",
       "      <td>Инфекции</td>\n",
       "      <td>Лабораторная диагностика</td>\n",
       "      <td>True</td>\n",
       "      <td>Нейтрализующие антитела к препаратам интерферо...</td>\n",
       "      <td>Budu СПб</td>\n",
       "    </tr>\n",
       "    <tr>\n",
       "      <th>3204</th>\n",
       "      <td>Холтеровское мониторирование сердечного ритма ...</td>\n",
       "      <td>13571.0</td>\n",
       "      <td>55.0</td>\n",
       "      <td>instrumental_tests</td>\n",
       "      <td>Электрофизиологические методы</td>\n",
       "      <td>Инструментальная диагностика</td>\n",
       "      <td>True</td>\n",
       "      <td>Холтеровское мониторирование сердечного ритма ...</td>\n",
       "      <td>UNIКлиник</td>\n",
       "    </tr>\n",
       "  </tbody>\n",
       "</table>\n",
       "</div>"
      ],
      "text/plain": [
       "                                             local_name  local_id  parent_id  \\\n",
       "3635  Групповое занятие лечебной физкультурой при не...    9283.0        NaN   \n",
       "149   Катехоламины (адреналин, норадреналин, дофамин...    6064.0       64.0   \n",
       "2510  Прием педиатром ребенка повторный, на дому в п...      60.0        NaN   \n",
       "2506  Нейтрализующие антитела к препаратам интерферо...    6702.0       64.0   \n",
       "3204  Холтеровское мониторирование сердечного ритма ...   13571.0       55.0   \n",
       "\n",
       "                    type                   gt_type_name  \\\n",
       "3635                 NaN                            NaN   \n",
       "149     laboratory_tests                       Биохимия   \n",
       "2510                 NaN                            NaN   \n",
       "2506    laboratory_tests                       Инфекции   \n",
       "3204  instrumental_tests  Электрофизиологические методы   \n",
       "\n",
       "                    parent_id_name site_active  \\\n",
       "3635                           NaN         NaN   \n",
       "149       Лабораторная диагностика        True   \n",
       "2510                           NaN         NaN   \n",
       "2506      Лабораторная диагностика        True   \n",
       "3204  Инструментальная диагностика        True   \n",
       "\n",
       "                                           service_name   lpu_name  \n",
       "3635  Групповое занятие лечебной физкультурой при не...      Медси  \n",
       "149   Катехоламины в моче (адреналин, норадреналин, ...    Инвитро  \n",
       "2510  Прием педиатром ребенка повторный, на дому в п...   Budu СПб  \n",
       "2506  Нейтрализующие антитела к препаратам интерферо...   Budu СПб  \n",
       "3204  Холтеровское мониторирование сердечного ритма ...  UNIКлиник  "
      ]
     },
     "execution_count": 3,
     "metadata": {},
     "output_type": "execute_result"
    }
   ],
   "source": [
    "data_matcher.sample(5, random_state=42)"
   ]
  },
  {
   "cell_type": "code",
   "execution_count": 4,
   "metadata": {},
   "outputs": [],
   "source": [
    "config = MatcherConfig()\n",
    "model = SentenceSimilarity(config=config)"
   ]
  },
  {
   "cell_type": "markdown",
   "metadata": {},
   "source": [
    "Параметры для конфига указаны в файле `configs/config_matcher.py`"
   ]
  },
  {
   "cell_type": "code",
   "execution_count": 5,
   "metadata": {},
   "outputs": [
    {
     "name": "stderr",
     "output_type": "stream",
     "text": [
      "  0%|          | 0/23700 [00:00<?, ?it/s]/home/evgen/desktop/ranker/matcher/matcher.py:65: UserWarning: To copy construct from a tensor, it is recommended to use sourceTensor.clone().detach() or sourceTensor.clone().detach().requires_grad_(True), rather than torch.tensor(sourceTensor).\n",
      "  return torch.tensor(self.embedder.encode(sentences=texts, convert_to_tensor=True)).clone().detach()\n",
      "100%|██████████| 23700/23700 [02:52<00:00, 137.02it/s]\n"
     ]
    },
    {
     "data": {
      "text/html": [
       "<div>\n",
       "<style scoped>\n",
       "    .dataframe tbody tr th:only-of-type {\n",
       "        vertical-align: middle;\n",
       "    }\n",
       "\n",
       "    .dataframe tbody tr th {\n",
       "        vertical-align: top;\n",
       "    }\n",
       "\n",
       "    .dataframe thead th {\n",
       "        text-align: right;\n",
       "    }\n",
       "</style>\n",
       "<table border=\"1\" class=\"dataframe\">\n",
       "  <thead>\n",
       "    <tr style=\"text-align: right;\">\n",
       "      <th></th>\n",
       "      <th>local_name</th>\n",
       "      <th>local_id</th>\n",
       "      <th>parent_id</th>\n",
       "      <th>type</th>\n",
       "      <th>gt_type_name</th>\n",
       "      <th>parent_id_name</th>\n",
       "      <th>site_active</th>\n",
       "      <th>service_name</th>\n",
       "      <th>lpu_name</th>\n",
       "      <th>preds_top_k</th>\n",
       "      <th>preds_local_names_top_k</th>\n",
       "    </tr>\n",
       "  </thead>\n",
       "  <tbody>\n",
       "    <tr>\n",
       "      <th>7944</th>\n",
       "      <td>Протеин C</td>\n",
       "      <td>5549.0</td>\n",
       "      <td>64.0</td>\n",
       "      <td>laboratory_tests</td>\n",
       "      <td>Биохимия</td>\n",
       "      <td>Лабораторная диагностика</td>\n",
       "      <td>True</td>\n",
       "      <td>Протеин С</td>\n",
       "      <td>ООО \"Клинический госпиталь на Яузе\"</td>\n",
       "      <td>[{'local_name': 'Протеин C', 'score': 0.851402...</td>\n",
       "      <td>[Протеин C, Протеин S свободный, Витамин С (ас...</td>\n",
       "    </tr>\n",
       "    <tr>\n",
       "      <th>7539</th>\n",
       "      <td>Прием (осмотр, консультация) врача-оторинолари...</td>\n",
       "      <td>18099.0</td>\n",
       "      <td>NaN</td>\n",
       "      <td>NaN</td>\n",
       "      <td>NaN</td>\n",
       "      <td>NaN</td>\n",
       "      <td>NaN</td>\n",
       "      <td>Прием (осмотр, консультация) ведущего врача-от...</td>\n",
       "      <td>ООО \"Клинический госпиталь на Яузе\"</td>\n",
       "      <td>[{'local_name': 'Осмотр (консультация) врачом-...</td>\n",
       "      <td>[Осмотр (консультация) врачом-радиологом повто...</td>\n",
       "    </tr>\n",
       "  </tbody>\n",
       "</table>\n",
       "</div>"
      ],
      "text/plain": [
       "                                             local_name  local_id  parent_id  \\\n",
       "7944                                          Протеин C    5549.0       64.0   \n",
       "7539  Прием (осмотр, консультация) врача-оторинолари...   18099.0        NaN   \n",
       "\n",
       "                  type gt_type_name            parent_id_name site_active  \\\n",
       "7944  laboratory_tests     Биохимия  Лабораторная диагностика        True   \n",
       "7539               NaN          NaN                       NaN         NaN   \n",
       "\n",
       "                                           service_name  \\\n",
       "7944                                          Протеин С   \n",
       "7539  Прием (осмотр, консультация) ведущего врача-от...   \n",
       "\n",
       "                                 lpu_name  \\\n",
       "7944  ООО \"Клинический госпиталь на Яузе\"   \n",
       "7539  ООО \"Клинический госпиталь на Яузе\"   \n",
       "\n",
       "                                            preds_top_k  \\\n",
       "7944  [{'local_name': 'Протеин C', 'score': 0.851402...   \n",
       "7539  [{'local_name': 'Осмотр (консультация) врачом-...   \n",
       "\n",
       "                                preds_local_names_top_k  \n",
       "7944  [Протеин C, Протеин S свободный, Витамин С (ас...  \n",
       "7539  [Осмотр (консультация) врачом-радиологом повто...  "
      ]
     },
     "execution_count": 5,
     "metadata": {},
     "output_type": "execute_result"
    }
   ],
   "source": [
    "data_valid['preds_top_k'] = data_valid['service_name'].progress_apply(model.get_top_k)\n",
    "data_valid['preds_local_names_top_k'] = data_valid['preds_top_k'].apply(lambda x: [i['local_name'] for i in x])\n",
    "data_valid.sample(2, random_state=42)"
   ]
  },
  {
   "cell_type": "code",
   "execution_count": 6,
   "metadata": {},
   "outputs": [],
   "source": [
    "actual_list = data_valid['local_name'].apply(lambda x: [x]).values.tolist()\n",
    "predict_list = data_valid['preds_local_names_top_k'].values.tolist()"
   ]
  },
  {
   "cell_type": "code",
   "execution_count": 7,
   "metadata": {},
   "outputs": [
    {
     "data": {
      "text/html": [
       "<div>\n",
       "<style scoped>\n",
       "    .dataframe tbody tr th:only-of-type {\n",
       "        vertical-align: middle;\n",
       "    }\n",
       "\n",
       "    .dataframe tbody tr th {\n",
       "        vertical-align: top;\n",
       "    }\n",
       "\n",
       "    .dataframe thead th {\n",
       "        text-align: right;\n",
       "    }\n",
       "</style>\n",
       "<table border=\"1\" class=\"dataframe\">\n",
       "  <thead>\n",
       "    <tr style=\"text-align: right;\">\n",
       "      <th></th>\n",
       "      <th>k</th>\n",
       "      <th>mark</th>\n",
       "      <th>mapk</th>\n",
       "      <th>f1_score</th>\n",
       "    </tr>\n",
       "  </thead>\n",
       "  <tbody>\n",
       "    <tr>\n",
       "      <th>0</th>\n",
       "      <td>1</td>\n",
       "      <td>0.821561</td>\n",
       "      <td>0.821561</td>\n",
       "      <td>0.821561</td>\n",
       "    </tr>\n",
       "    <tr>\n",
       "      <th>1</th>\n",
       "      <td>2</td>\n",
       "      <td>0.859958</td>\n",
       "      <td>0.859958</td>\n",
       "      <td>0.859958</td>\n",
       "    </tr>\n",
       "    <tr>\n",
       "      <th>2</th>\n",
       "      <td>3</td>\n",
       "      <td>0.869100</td>\n",
       "      <td>0.869100</td>\n",
       "      <td>0.869100</td>\n",
       "    </tr>\n",
       "    <tr>\n",
       "      <th>3</th>\n",
       "      <td>4</td>\n",
       "      <td>0.873193</td>\n",
       "      <td>0.873193</td>\n",
       "      <td>0.873193</td>\n",
       "    </tr>\n",
       "    <tr>\n",
       "      <th>4</th>\n",
       "      <td>5</td>\n",
       "      <td>0.874813</td>\n",
       "      <td>0.874813</td>\n",
       "      <td>0.874813</td>\n",
       "    </tr>\n",
       "  </tbody>\n",
       "</table>\n",
       "</div>"
      ],
      "text/plain": [
       "   k      mark      mapk  f1_score\n",
       "0  1  0.821561  0.821561  0.821561\n",
       "1  2  0.859958  0.859958  0.859958\n",
       "2  3  0.869100  0.869100  0.869100\n",
       "3  4  0.873193  0.873193  0.873193\n",
       "4  5  0.874813  0.874813  0.874813"
      ]
     },
     "execution_count": 7,
     "metadata": {},
     "output_type": "execute_result"
    }
   ],
   "source": [
    "get_pivot_table(actual_list, predict_list, top_k=5)"
   ]
  },
  {
   "cell_type": "markdown",
   "metadata": {},
   "source": [
    "Пример почему метрики получаются одинаковые"
   ]
  },
  {
   "cell_type": "code",
   "execution_count": 8,
   "metadata": {},
   "outputs": [],
   "source": [
    "actual = [[\"a\"], [\"b\"], [\"c\"]]\n",
    "predicted = [[\"b\", \"a\", \"c\"], [\"b\", \"c\", \"a\"], [\"a\", \"b\", \"c\"]]"
   ]
  },
  {
   "cell_type": "code",
   "execution_count": 9,
   "metadata": {},
   "outputs": [
    {
     "data": {
      "text/plain": [
       "0.611111111111111"
      ]
     },
     "execution_count": 9,
     "metadata": {},
     "output_type": "execute_result"
    }
   ],
   "source": [
    "mapk(actual, predicted)"
   ]
  },
  {
   "cell_type": "code",
   "execution_count": 10,
   "metadata": {},
   "outputs": [
    {
     "data": {
      "text/plain": [
       "0.611111111111111"
      ]
     },
     "execution_count": 10,
     "metadata": {},
     "output_type": "execute_result"
    }
   ],
   "source": [
    "mark(actual, predicted)"
   ]
  },
  {
   "cell_type": "code",
   "execution_count": 11,
   "metadata": {},
   "outputs": [
    {
     "name": "stderr",
     "output_type": "stream",
     "text": [
      "100%|██████████| 23700/23700 [00:16<00:00, 1401.92it/s]\n"
     ]
    },
    {
     "data": {
      "text/plain": [
       "1    23682\n",
       "2       18\n",
       "dtype: int64"
      ]
     },
     "execution_count": 11,
     "metadata": {},
     "output_type": "execute_result"
    }
   ],
   "source": [
    "pairs = []\n",
    "\n",
    "for value in tqdm(data_valid['service_name']):\n",
    "    pairs.append(data_valid[data_valid['service_name'] == value]['local_name'].nunique())\n",
    "    \n",
    "pd.Series(pairs).value_counts()"
   ]
  },
  {
   "cell_type": "markdown",
   "metadata": {},
   "source": [
    "Существует всего 18 где больше одного метча"
   ]
  },
  {
   "cell_type": "code",
   "execution_count": 12,
   "metadata": {},
   "outputs": [
    {
     "name": "stdout",
     "output_type": "stream",
     "text": [
      "Service name в клинике Здоровое поколение: Мочевина\n",
      "True match: Мочевина в сыворотке\n",
      "Top-k predicted local names: ['Мочевина в сыворотке', 'Мочевина в суточной моче', 'Мочевая кислота в сыворотке', 'Медь в моче', 'Свинец в моче']\n",
      "------------------------------\n",
      "Service name в клинике Инвитро: Cyfra-21-1 (Фрагмент Цитокератина 19)\n",
      "True match: Фрагменты цитокератина 19 CYFRA 21-1\n",
      "Top-k predicted local names: ['Фрагменты цитокератина 19 CYFRA 21-1', 'Цитохром P450 2C19. Генотипирование по маркеру CYP2C19 (G681A; *2)', 'Цитохром P450 2C19. Генотипирование по маркеру CYP2C19 (C(-806)T;*17)', 'ПЦР анализ химерного гена RUNX1/RUNX1T1 t(8;21)', 'ПЦР анализ химерного гена E2A/PBX1\\xa0 t(1;19)']\n",
      "------------------------------\n",
      "Service name в клинике ООО «МЕДИЦИНСКИЙ ЦЕНТР АТЛАС»: Иммуноцитохимическое исследование 5 маркеров\n",
      "True match: Иммуноцитохимическое исследование материала (5 маркеров) (кроме PTEN)\n",
      "Top-k predicted local names: ['Иммуноцитохимическое исследование материала (5 маркеров) (кроме PTEN)', 'Иммуногистохимическое исследование клинического материала (с использованием 5 антител)', 'Иммуноцитохимическое исследование материала (6 и более маркеров) (кроме PTEN)', 'Иммуноцитохимическое исследование материала (4 маркера) (кроме PTEN)', 'Скрининговое иммунологическое обследование']\n",
      "------------------------------\n",
      "Service name в клинике АВС-МЕДИЦИНА: Дуплексное сканирование экстракраниальных отделов брахиоцефальных артерий, яремных вен\n",
      "True match: Дуплексное сканирование экстракраниальных отделов брахиоцефальных артерий\n",
      "Top-k predicted local names: ['Дуплексное сканирование экстракраниальных отделов брахиоцефальных артерий', 'Дуплексное cканирование интракраниальных отделов брахиоцефальных артерий', 'Дуплексное сканирование вен верхних конечностей', 'Дуплексное сканирование сосудов (артерий и вен) верхних конечностей', 'Дуплексное сканирование артерий верхних конечностей']\n",
      "------------------------------\n",
      "Service name в клинике ООО «АЛМ Медицина»: Антитела к лямблии (anti-Giardia Lamblia), IgM+IgG     (Кровь из вены),п.кол.\n",
      "True match: Giardia lamblia, суммарные антитела\n",
      "Top-k predicted local names: ['Антинуклеарные антитела, IgG (анти-Sm, RNP/Sm, SS-A, SS-B, Scl-70, PM-Scl, PCNA, dsDNA, CENT-B, Jo-1, к гистонам, к нуклеосомам, Ribo P, AMA-M2), иммуноблот', 'Антитела к Borrelia, IgM (иммуноблот)', 'Антитела к антигенам аутоиммунных заболеваний печени (растворимому антигену печени (SLA/LP), антитела к  цитозольному антигену (LC-1),антитела к микросомам печени-почек 1 типа (LKM-1), антитела к митохондриям М2 (AMA-M2), пируват-декарбоксилазному комплексу митохондрий (PDC-M23E), антитела к антигену Sp100, антитела к антигенам  PML и gp210), IgG', 'Leishmania infantum, антитела (IgG + IgM)', 'Антитела к Borrelia, IgG (иммуноблот)']\n",
      "------------------------------\n",
      "Service name в клинике Хеликс: Аллерген f96 - авокадо, IgE\n",
      "True match: Аллерген f96 - авокадо, IgE\n",
      "Top-k predicted local names: ['Аллерген f96 - авокадо, IgE', 'Аллерген f96 - авокадо, IgG', 'Аллерген f96 - авокадо / Persea americana, IgE (ImmunoCAP)', 'Аллерген f36 - кокос, IgE', 'Аллерген f36 - кокос, IgG']\n",
      "------------------------------\n",
      "Service name в клинике Медси: Посев на иерсинии Yersinia spp. (с определением чувствительности к антибиотикам)\n",
      "True match: Посев на Yersinia spp.\n",
      "Top-k predicted local names: ['Посев эякулята на аэробную и факультативно-анаэробную флору с определением чувствительности к антибиотикам', 'Посев на Yersinia spp.', 'Посев на Chlamydia trachomatis с определением чувствительности к антибиотикам', 'Посев на Ureaplasma urealyticum с определением чувствительности к антибиотикам (при титре 1х10^4 и выше)', 'Посев на аэробную и факультативно-анаэробную флору с определением чувствительности к расширенному списку антибиотиков и подбором минимальной эффективной дозировки препарата']\n",
      "------------------------------\n",
      "Service name в клинике Хеликс: Здоровье ребенка - дошкольный\n",
      "True match: Здоровье ребенка - дошкольный\n",
      "Top-k predicted local names: ['Здоровье ребенка - дошкольный', 'Здоровье ребенка - младенчество', 'Здоровье ребенка - первые шаги', 'Здоровый ребенок', 'Здоровый ребенок (расширенный)']\n",
      "------------------------------\n",
      "Service name в клинике АВС-МЕДИЦИНА: Осмотр (консультация) врачом-анестезиологом-реаниматологом первичный\n",
      "True match: Осмотр (консультация) врачом-анестезиологом-реаниматологом первичный\n",
      "Top-k predicted local names: ['Осмотр (консультация) врачом-анестезиологом-реаниматологом первичный', 'Осмотр (консультация) врачом-радиологом первичный', 'Осмотр (консультация) врачом-радиотерапевтом первичный', 'Осмотр (консультация) врачом-анестезиологом-реаниматологом повторный', 'Осмотр (консультация) врача-физиотерапевта в клинике']\n",
      "------------------------------\n",
      "Service name в клинике Budu МСК: Аллерген f15 - фасоль, IgE (ImmunoCAP)\n",
      "True match: Аллерген f15 - фасоль, IgE (ImmunoCAP)\n",
      "Top-k predicted local names: ['Аллерген f15 - фасоль, IgE (ImmunoCAP)', 'Аллерген f15 - фасоль белая, IgE', 'Аллерген f15 - фасоль белая, IgG', 'Аллерген f287 - красная фасоль, IgE (ImmunoCAP)', 'Аллерген f315 - фасоль зеленая, IgE']\n",
      "------------------------------\n"
     ]
    }
   ],
   "source": [
    "def get_error_review(row):\n",
    "    print(f\"Service name в клинике {row['lpu_name']}: {row['service_name']}\")\n",
    "    print(f\"True match: {row['local_name']}\")\n",
    "    print(f\"Top-k predicted local names: {row['preds_local_names_top_k']}\")\n",
    "    print(\"-\" * 30)\n",
    "    \n",
    "for idx, row in data_valid.sample(10, random_state=69).iterrows():\n",
    "    get_error_review(row)"
   ]
  },
  {
   "cell_type": "code",
   "execution_count": 13,
   "metadata": {},
   "outputs": [
    {
     "name": "stderr",
     "output_type": "stream",
     "text": [
      "/home/evgen/desktop/ranker/matcher/matcher.py:65: UserWarning: To copy construct from a tensor, it is recommended to use sourceTensor.clone().detach() or sourceTensor.clone().detach().requires_grad_(True), rather than torch.tensor(sourceTensor).\n",
      "  return torch.tensor(self.embedder.encode(sentences=texts, convert_to_tensor=True)).clone().detach()\n"
     ]
    },
    {
     "data": {
      "text/plain": [
       "[{'local_name': 'Varicella Zoster Virus, IgG', 'score': 0.8591366},\n",
       " {'local_name': 'Varicella Zoster Virus, IgA', 'score': 0.7878473},\n",
       " {'local_name': 'Varicella Zoster Virus, IgM', 'score': 0.771694},\n",
       " {'local_name': 'Антитела к нуклеосомам класса IgG', 'score': 0.76468045},\n",
       " {'local_name': 'Антитела к Poliomyelitis virus, IgG', 'score': 0.70515966}]"
      ]
     },
     "execution_count": 13,
     "metadata": {},
     "output_type": "execute_result"
    }
   ],
   "source": [
    "model.get_top_k(\"Антитела класса IgG к вирусу Varicella-Zoster\", top_k=5)"
   ]
  },
  {
   "cell_type": "markdown",
   "metadata": {},
   "source": [
    "# Итоги\n",
    "### Описание подхода\n",
    "1. Для решения задачи `Поиск топ-5 эталонных услуг для новых услуг клиник` использовался метод решения, который сравнивает эмббединг входного текста с эмббедингами локальных услуг с помощью косинусного расстояния и выводит `top_k = 5` похожих.\n",
    "2. Необходимо было выбрать какой эмббедер использовать, воспользовался бенчмарком encodechka [репозиторий](`https://github.com/avidale/encodechka`]) и выбрал лучшую модель, которая может решать задачу `STS - Semantic text similarity`, по информации с ресурса encodechka, самой подходящей моделью оказалась `deepvk/USER-bge-m3`.\n",
    "\n",
    "### Анализ результатов\n",
    "1. Был проведен расчёт метрик `mapk` - mean average precision k, `mark` - mean average recall k и `f1-score` для разных вариаций K и результат расчёта метрик выведен в таблицу.\n",
    "2. С уверенностью можно сказать, что алгоритм работает вполне хорошо, например для примера `Антитела класса IgG к вирусу Varicella-Zoster`, получились хорошие результаты и высокий `score`\n",
    "3. Все метрики имеют одинаковые значения ввиду того, что существует очень малое количество семплов в котором `service_name` соотетствует нескольким `local_name`. Так как у нас всего 18 таких пар где значение больше 1.\n",
    "\n",
    "### Возможные улучшения \n",
    "1. Данную задачу можно решить с помощью `Sentence Pair Classification`\n",
    "2. Провести более глубокий анализ датасета, корректно заполнить пропуски эвристиками и проконсультироваться с специалистом. Использовать другие столбцы как доп.фичи\n",
    "3. Рассчитать метрики такие как : `MRR`, `NDCG`\n",
    "4. Разработать сервис с помощью `API/DOCKER`"
   ]
  }
 ],
 "metadata": {
  "kernelspec": {
   "display_name": "Python 3 (ipykernel)",
   "language": "python",
   "name": "python3"
  },
  "language_info": {
   "codemirror_mode": {
    "name": "ipython",
    "version": 3
   },
   "file_extension": ".py",
   "mimetype": "text/x-python",
   "name": "python",
   "nbconvert_exporter": "python",
   "pygments_lexer": "ipython3",
   "version": "3.10.12"
  }
 },
 "nbformat": 4,
 "nbformat_minor": 2
}

{
 "cells": [
  {
   "cell_type": "markdown",
   "metadata": {},
   "source": [
    "# Использование модели метчинга для поиска топ-5 услуг для новых услуг клиник"
   ]
  },
  {
   "cell_type": "code",
   "execution_count": 1,
   "metadata": {},
   "outputs": [
    {
     "name": "stderr",
     "output_type": "stream",
     "text": [
      "/home/evgen/desktop/ranker/.venv/lib/python3.10/site-packages/sentence_transformers/cross_encoder/CrossEncoder.py:13: TqdmWarning: IProgress not found. Please update jupyter and ipywidgets. See https://ipywidgets.readthedocs.io/en/stable/user_install.html\n",
      "  from tqdm.autonotebook import tqdm, trange\n",
      "2024-09-18 22:49:17.678975: I tensorflow/core/util/port.cc:153] oneDNN custom operations are on. You may see slightly different numerical results due to floating-point round-off errors from different computation orders. To turn them off, set the environment variable `TF_ENABLE_ONEDNN_OPTS=0`.\n",
      "2024-09-18 22:49:17.687710: E external/local_xla/xla/stream_executor/cuda/cuda_fft.cc:485] Unable to register cuFFT factory: Attempting to register factory for plugin cuFFT when one has already been registered\n",
      "2024-09-18 22:49:17.696795: E external/local_xla/xla/stream_executor/cuda/cuda_dnn.cc:8454] Unable to register cuDNN factory: Attempting to register factory for plugin cuDNN when one has already been registered\n",
      "2024-09-18 22:49:17.699535: E external/local_xla/xla/stream_executor/cuda/cuda_blas.cc:1452] Unable to register cuBLAS factory: Attempting to register factory for plugin cuBLAS when one has already been registered\n",
      "2024-09-18 22:49:17.707721: I tensorflow/core/platform/cpu_feature_guard.cc:210] This TensorFlow binary is optimized to use available CPU instructions in performance-critical operations.\n",
      "To enable the following instructions: AVX2 AVX512F AVX512_VNNI AVX512_BF16 FMA, in other operations, rebuild TensorFlow with the appropriate compiler flags.\n",
      "2024-09-18 22:49:18.202712: W tensorflow/compiler/tf2tensorrt/utils/py_utils.cc:38] TF-TRT Warning: Could not find TensorRT\n"
     ]
    }
   ],
   "source": [
    "import pandas as pd\n",
    "import numpy as np\n",
    "from matcher.matcher import SentenceSimilarity\n",
    "from configs.config_matcher import MatcherConfig\n",
    "from utils.compute_metrics import mapk, mark\n",
    "from tqdm import tqdm\n",
    "tqdm.pandas()"
   ]
  },
  {
   "cell_type": "code",
   "execution_count": 2,
   "metadata": {},
   "outputs": [],
   "source": [
    "data = pd.read_csv(\"data/data_for_matcher.csv\")"
   ]
  },
  {
   "cell_type": "markdown",
   "metadata": {},
   "source": [
    "Для проверки работы алгоритма, будет использоваться датасет из которого удалены дубликаты в столбце `local_name`"
   ]
  },
  {
   "cell_type": "markdown",
   "metadata": {},
   "source": [
    "Параметры для конфига указаны в файле `configs/config_matcher.py`"
   ]
  },
  {
   "cell_type": "code",
   "execution_count": 3,
   "metadata": {},
   "outputs": [],
   "source": [
    "config = MatcherConfig()\n",
    "model = SentenceSimilarity(config=config)"
   ]
  },
  {
   "cell_type": "code",
   "execution_count": 4,
   "metadata": {},
   "outputs": [
    {
     "name": "stderr",
     "output_type": "stream",
     "text": [
      "  0%|          | 0/4047 [00:00<?, ?it/s]/home/evgen/desktop/ranker/matcher/matcher.py:60: UserWarning: To copy construct from a tensor, it is recommended to use sourceTensor.clone().detach() or sourceTensor.clone().detach().requires_grad_(True), rather than torch.tensor(sourceTensor).\n",
      "  return torch.tensor(self.embedder.encode(sentences=texts, convert_to_tensor=True)).clone().detach()\n",
      "100%|██████████| 4047/4047 [00:30<00:00, 131.84it/s]\n"
     ]
    }
   ],
   "source": [
    "predict = data['service_name'].progress_apply(lambda x: model.get_top_k(x, top_k=5))"
   ]
  },
  {
   "cell_type": "code",
   "execution_count": 5,
   "metadata": {},
   "outputs": [
    {
     "data": {
      "text/plain": [
       "[['Выявление стресса и его стадии',\n",
       "  'Комплексная оценка оксидативного стресса (7 параметров)',\n",
       "  'Комплексное исследование, ОСМ',\n",
       "  'Обследование домашнего персонала (расширенное)',\n",
       "  'Комплексное исследование на гормоны (12 показателей)'],\n",
       " ['Клинический анализ крови: общий анализ, лейкоцитарная формула, СОЭ (с обязательной микроскопией мазка крови)',\n",
       "  'Клинический анализ крови: общий анализ, лейкоцитарная формула, СОЭ (с микроскопией мазка крови при выявлении патологических изменений)',\n",
       "  'Лейкоцитарная формула (с обязательной микроскопией мазка крови)',\n",
       "  'Лейкоцитарная формула (с микроскопией мазка крови при выявлении патологических изменений)',\n",
       "  'Клинический анализ крови с микроскопией лейкоцитарной формулы']]"
      ]
     },
     "execution_count": 5,
     "metadata": {},
     "output_type": "execute_result"
    }
   ],
   "source": [
    "predict_list = predict.apply(lambda x: [key['local_name'] for key in x]).values.tolist()\n",
    "predict_list[:2]"
   ]
  },
  {
   "cell_type": "code",
   "execution_count": 6,
   "metadata": {},
   "outputs": [
    {
     "data": {
      "text/plain": [
       "[['Выявление стресса и его стадии'],\n",
       " ['Клинический анализ крови с микроскопией лейкоцитарной формулы'],\n",
       " ['Лейкоцитарная формула (с обязательной микроскопией мазка крови)'],\n",
       " ['Клинический анализ крови (c лейкоцитарной формулой)'],\n",
       " ['Клинический анализ крови: общий анализ, лейкоцитарная формула, СОЭ (с микроскопией мазка крови при выявлении патологических изменений)']]"
      ]
     },
     "execution_count": 6,
     "metadata": {},
     "output_type": "execute_result"
    }
   ],
   "source": [
    "actual_list = data['local_name'].apply(lambda x: [x]).values.tolist()\n",
    "actual_list[:5]"
   ]
  },
  {
   "cell_type": "code",
   "execution_count": 22,
   "metadata": {},
   "outputs": [
    {
     "data": {
      "text/html": [
       "<div>\n",
       "<style scoped>\n",
       "    .dataframe tbody tr th:only-of-type {\n",
       "        vertical-align: middle;\n",
       "    }\n",
       "\n",
       "    .dataframe tbody tr th {\n",
       "        vertical-align: top;\n",
       "    }\n",
       "\n",
       "    .dataframe thead th {\n",
       "        text-align: right;\n",
       "    }\n",
       "</style>\n",
       "<table border=\"1\" class=\"dataframe\">\n",
       "  <thead>\n",
       "    <tr style=\"text-align: right;\">\n",
       "      <th></th>\n",
       "      <th>mark</th>\n",
       "      <th>mapk</th>\n",
       "    </tr>\n",
       "  </thead>\n",
       "  <tbody>\n",
       "    <tr>\n",
       "      <th>K=1</th>\n",
       "      <td>0.857672</td>\n",
       "      <td>0.857672</td>\n",
       "    </tr>\n",
       "    <tr>\n",
       "      <th>K=2</th>\n",
       "      <td>0.918952</td>\n",
       "      <td>0.888312</td>\n",
       "    </tr>\n",
       "    <tr>\n",
       "      <th>K=3</th>\n",
       "      <td>0.937732</td>\n",
       "      <td>0.894572</td>\n",
       "    </tr>\n",
       "    <tr>\n",
       "      <th>K=4</th>\n",
       "      <td>0.949345</td>\n",
       "      <td>0.897475</td>\n",
       "    </tr>\n",
       "    <tr>\n",
       "      <th>K=5</th>\n",
       "      <td>0.956758</td>\n",
       "      <td>0.898958</td>\n",
       "    </tr>\n",
       "  </tbody>\n",
       "</table>\n",
       "</div>"
      ],
      "text/plain": [
       "         mark      mapk\n",
       "K=1  0.857672  0.857672\n",
       "K=2  0.918952  0.888312\n",
       "K=3  0.937732  0.894572\n",
       "K=4  0.949345  0.897475\n",
       "K=5  0.956758  0.898958"
      ]
     },
     "execution_count": 22,
     "metadata": {},
     "output_type": "execute_result"
    }
   ],
   "source": [
    "k_values = [1, 2, 3, 4 ,5]\n",
    "\n",
    "results = {}\n",
    "\n",
    "for k in k_values:\n",
    "    mark_value = mark(data['local_name'].apply(lambda x: [x]).values.tolist(), predict_list, k=k)\n",
    "    mapk_value = mapk(data['local_name'].apply(lambda x: [x]).values.tolist(), predict_list, k=k)\n",
    "    \n",
    "    results[f\"K={k}\"] = {'mark': mark_value, 'mapk': mapk_value}\n",
    "\n",
    "metrics_tables = pd.DataFrame(results).T\n",
    "\n",
    "metrics_tables"
   ]
  }
 ],
 "metadata": {
  "kernelspec": {
   "display_name": ".venv",
   "language": "python",
   "name": "python3"
  },
  "language_info": {
   "codemirror_mode": {
    "name": "ipython",
    "version": 3
   },
   "file_extension": ".py",
   "mimetype": "text/x-python",
   "name": "python",
   "nbconvert_exporter": "python",
   "pygments_lexer": "ipython3",
   "version": "3.10.12"
  }
 },
 "nbformat": 4,
 "nbformat_minor": 2
}

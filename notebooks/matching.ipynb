{
 "cells": [
  {
   "cell_type": "markdown",
   "metadata": {},
   "source": [
    "# Использование модели метчинга для поиска топ-5 услуг для новых услуг клиник"
   ]
  },
  {
   "cell_type": "code",
   "execution_count": 1,
   "metadata": {},
   "outputs": [
    {
     "name": "stderr",
     "output_type": "stream",
     "text": [
      "/home/evgen/desktop/ranker/.venv/lib/python3.10/site-packages/sentence_transformers/cross_encoder/CrossEncoder.py:13: TqdmExperimentalWarning: Using `tqdm.autonotebook.tqdm` in notebook mode. Use `tqdm.tqdm` instead to force console mode (e.g. in jupyter console)\n",
      "  from tqdm.autonotebook import tqdm, trange\n",
      "2024-09-19 12:22:16.886777: I tensorflow/core/util/port.cc:153] oneDNN custom operations are on. You may see slightly different numerical results due to floating-point round-off errors from different computation orders. To turn them off, set the environment variable `TF_ENABLE_ONEDNN_OPTS=0`.\n",
      "2024-09-19 12:22:16.895659: E external/local_xla/xla/stream_executor/cuda/cuda_fft.cc:485] Unable to register cuFFT factory: Attempting to register factory for plugin cuFFT when one has already been registered\n",
      "2024-09-19 12:22:16.904701: E external/local_xla/xla/stream_executor/cuda/cuda_dnn.cc:8454] Unable to register cuDNN factory: Attempting to register factory for plugin cuDNN when one has already been registered\n",
      "2024-09-19 12:22:16.907620: E external/local_xla/xla/stream_executor/cuda/cuda_blas.cc:1452] Unable to register cuBLAS factory: Attempting to register factory for plugin cuBLAS when one has already been registered\n",
      "2024-09-19 12:22:16.915613: I tensorflow/core/platform/cpu_feature_guard.cc:210] This TensorFlow binary is optimized to use available CPU instructions in performance-critical operations.\n",
      "To enable the following instructions: AVX2 AVX512F AVX512_VNNI AVX512_BF16 FMA, in other operations, rebuild TensorFlow with the appropriate compiler flags.\n",
      "2024-09-19 12:22:17.327192: W tensorflow/compiler/tf2tensorrt/utils/py_utils.cc:38] TF-TRT Warning: Could not find TensorRT\n"
     ]
    }
   ],
   "source": [
    "import pandas as pd\n",
    "import numpy as np\n",
    "\n",
    "from matcher.matcher import SentenceSimilarity\n",
    "from configs.config_matcher import MatcherConfig\n",
    "from utils.compute_metrics import mark, mapk, f1, get_pivot_table\n",
    "from tqdm import tqdm\n",
    "\n",
    "tqdm.pandas()"
   ]
  },
  {
   "cell_type": "markdown",
   "metadata": {},
   "source": [
    "Для проверки работы алгоритма, будет использоваться датасет из которого удалены дубликаты в столбце `local_name`"
   ]
  },
  {
   "cell_type": "code",
   "execution_count": 2,
   "metadata": {},
   "outputs": [],
   "source": [
    "data = pd.read_csv(\"data/data_for_matcher.csv\")"
   ]
  },
  {
   "cell_type": "code",
   "execution_count": 3,
   "metadata": {},
   "outputs": [
    {
     "data": {
      "text/html": [
       "<div>\n",
       "<style scoped>\n",
       "    .dataframe tbody tr th:only-of-type {\n",
       "        vertical-align: middle;\n",
       "    }\n",
       "\n",
       "    .dataframe tbody tr th {\n",
       "        vertical-align: top;\n",
       "    }\n",
       "\n",
       "    .dataframe thead th {\n",
       "        text-align: right;\n",
       "    }\n",
       "</style>\n",
       "<table border=\"1\" class=\"dataframe\">\n",
       "  <thead>\n",
       "    <tr style=\"text-align: right;\">\n",
       "      <th></th>\n",
       "      <th>local_name</th>\n",
       "      <th>local_id</th>\n",
       "      <th>parent_id</th>\n",
       "      <th>type</th>\n",
       "      <th>gt_type_name</th>\n",
       "      <th>parent_id_name</th>\n",
       "      <th>site_active</th>\n",
       "      <th>service_name</th>\n",
       "      <th>lpu_name</th>\n",
       "    </tr>\n",
       "  </thead>\n",
       "  <tbody>\n",
       "    <tr>\n",
       "      <th>1209</th>\n",
       "      <td>Определение фракции трансферрина (CDT) (диагно...</td>\n",
       "      <td>5728.0</td>\n",
       "      <td>64.0</td>\n",
       "      <td>laboratory_tests</td>\n",
       "      <td>Биохимия</td>\n",
       "      <td>Лабораторная диагностика</td>\n",
       "      <td>True</td>\n",
       "      <td>Определение фракции трансферрина (CDT) (диагно...</td>\n",
       "      <td>ДНКОМ</td>\n",
       "    </tr>\n",
       "    <tr>\n",
       "      <th>15</th>\n",
       "      <td>Волчаночный антикоагулянт</td>\n",
       "      <td>5540.0</td>\n",
       "      <td>64.0</td>\n",
       "      <td>laboratory_tests</td>\n",
       "      <td>Биохимия</td>\n",
       "      <td>Лабораторная диагностика</td>\n",
       "      <td>True</td>\n",
       "      <td>Волчаночный антикоагулянт (Lupus anticoagulant...</td>\n",
       "      <td>Инвитро</td>\n",
       "    </tr>\n",
       "    <tr>\n",
       "      <th>154</th>\n",
       "      <td>Фруктозамин</td>\n",
       "      <td>5594.0</td>\n",
       "      <td>64.0</td>\n",
       "      <td>laboratory_tests</td>\n",
       "      <td>Биохимия</td>\n",
       "      <td>Лабораторная диагностика</td>\n",
       "      <td>True</td>\n",
       "      <td>Фруктозамин (Fructosamine)</td>\n",
       "      <td>Инвитро</td>\n",
       "    </tr>\n",
       "    <tr>\n",
       "      <th>212</th>\n",
       "      <td>Миоглобин</td>\n",
       "      <td>5618.0</td>\n",
       "      <td>64.0</td>\n",
       "      <td>laboratory_tests</td>\n",
       "      <td>Биохимия</td>\n",
       "      <td>Лабораторная диагностика</td>\n",
       "      <td>True</td>\n",
       "      <td>Миоглобин (Myoglobin)</td>\n",
       "      <td>Инвитро</td>\n",
       "    </tr>\n",
       "    <tr>\n",
       "      <th>93</th>\n",
       "      <td>HE4</td>\n",
       "      <td>6117.0</td>\n",
       "      <td>64.0</td>\n",
       "      <td>laboratory_tests</td>\n",
       "      <td>Биохимия</td>\n",
       "      <td>Лабораторная диагностика</td>\n",
       "      <td>True</td>\n",
       "      <td>Опухолевый маркёр HE4 (Human epididymis protei...</td>\n",
       "      <td>Инвитро</td>\n",
       "    </tr>\n",
       "  </tbody>\n",
       "</table>\n",
       "</div>"
      ],
      "text/plain": [
       "                                             local_name  local_id  parent_id  \\\n",
       "1209  Определение фракции трансферрина (CDT) (диагно...    5728.0       64.0   \n",
       "15                            Волчаночный антикоагулянт    5540.0       64.0   \n",
       "154                                         Фруктозамин    5594.0       64.0   \n",
       "212                                           Миоглобин    5618.0       64.0   \n",
       "93                                                  HE4    6117.0       64.0   \n",
       "\n",
       "                  type gt_type_name            parent_id_name site_active  \\\n",
       "1209  laboratory_tests     Биохимия  Лабораторная диагностика        True   \n",
       "15    laboratory_tests     Биохимия  Лабораторная диагностика        True   \n",
       "154   laboratory_tests     Биохимия  Лабораторная диагностика        True   \n",
       "212   laboratory_tests     Биохимия  Лабораторная диагностика        True   \n",
       "93    laboratory_tests     Биохимия  Лабораторная диагностика        True   \n",
       "\n",
       "                                           service_name lpu_name  \n",
       "1209  Определение фракции трансферрина (CDT) (диагно...    ДНКОМ  \n",
       "15    Волчаночный антикоагулянт (Lupus anticoagulant...  Инвитро  \n",
       "154                          Фруктозамин (Fructosamine)  Инвитро  \n",
       "212                               Миоглобин (Myoglobin)  Инвитро  \n",
       "93    Опухолевый маркёр HE4 (Human epididymis protei...  Инвитро  "
      ]
     },
     "execution_count": 3,
     "metadata": {},
     "output_type": "execute_result"
    }
   ],
   "source": [
    "data.sample(5)"
   ]
  },
  {
   "cell_type": "markdown",
   "metadata": {},
   "source": [
    "Параметры для конфига указаны в файле `configs/config_matcher.py`"
   ]
  },
  {
   "cell_type": "code",
   "execution_count": 4,
   "metadata": {},
   "outputs": [],
   "source": [
    "config = MatcherConfig()\n",
    "model = SentenceSimilarity(config=config)"
   ]
  },
  {
   "cell_type": "code",
   "execution_count": 5,
   "metadata": {},
   "outputs": [
    {
     "name": "stderr",
     "output_type": "stream",
     "text": [
      "  0%|          | 0/4047 [00:00<?, ?it/s]/home/evgen/desktop/ranker/matcher/matcher.py:60: UserWarning: To copy construct from a tensor, it is recommended to use sourceTensor.clone().detach() or sourceTensor.clone().detach().requires_grad_(True), rather than torch.tensor(sourceTensor).\n",
      "  return torch.tensor(self.embedder.encode(sentences=texts, convert_to_tensor=True)).clone().detach()\n",
      "100%|██████████| 4047/4047 [00:29<00:00, 136.23it/s]\n"
     ]
    }
   ],
   "source": [
    "predict = data['service_name'].progress_apply(lambda x: model.get_top_k(x, top_k=5))"
   ]
  },
  {
   "cell_type": "code",
   "execution_count": 6,
   "metadata": {},
   "outputs": [
    {
     "data": {
      "text/plain": [
       "[['Выявление стресса и его стадии',\n",
       "  'Комплексная оценка оксидативного стресса (7 параметров)',\n",
       "  'Комплексное исследование, ОСМ',\n",
       "  'Обследование домашнего персонала (расширенное)',\n",
       "  'Комплексное исследование на гормоны (12 показателей)'],\n",
       " ['Клинический анализ крови: общий анализ, лейкоцитарная формула, СОЭ (с обязательной микроскопией мазка крови)',\n",
       "  'Клинический анализ крови: общий анализ, лейкоцитарная формула, СОЭ (с микроскопией мазка крови при выявлении патологических изменений)',\n",
       "  'Лейкоцитарная формула (с обязательной микроскопией мазка крови)',\n",
       "  'Лейкоцитарная формула (с микроскопией мазка крови при выявлении патологических изменений)',\n",
       "  'Клинический анализ крови с микроскопией лейкоцитарной формулы']]"
      ]
     },
     "execution_count": 6,
     "metadata": {},
     "output_type": "execute_result"
    }
   ],
   "source": [
    "predict_list = predict.apply(lambda x: [key['local_name'] for key in x]).values.tolist()\n",
    "predict_list[:2]"
   ]
  },
  {
   "cell_type": "code",
   "execution_count": 7,
   "metadata": {},
   "outputs": [
    {
     "data": {
      "text/plain": [
       "[['Выявление стресса и его стадии'],\n",
       " ['Клинический анализ крови с микроскопией лейкоцитарной формулы'],\n",
       " ['Лейкоцитарная формула (с обязательной микроскопией мазка крови)'],\n",
       " ['Клинический анализ крови (c лейкоцитарной формулой)'],\n",
       " ['Клинический анализ крови: общий анализ, лейкоцитарная формула, СОЭ (с микроскопией мазка крови при выявлении патологических изменений)']]"
      ]
     },
     "execution_count": 7,
     "metadata": {},
     "output_type": "execute_result"
    }
   ],
   "source": [
    "actual_list = data['local_name'].apply(lambda x: [x]).values.tolist()\n",
    "actual_list[:5]"
   ]
  },
  {
   "cell_type": "code",
   "execution_count": 8,
   "metadata": {},
   "outputs": [
    {
     "data": {
      "text/html": [
       "<div>\n",
       "<style scoped>\n",
       "    .dataframe tbody tr th:only-of-type {\n",
       "        vertical-align: middle;\n",
       "    }\n",
       "\n",
       "    .dataframe tbody tr th {\n",
       "        vertical-align: top;\n",
       "    }\n",
       "\n",
       "    .dataframe thead th {\n",
       "        text-align: right;\n",
       "    }\n",
       "</style>\n",
       "<table border=\"1\" class=\"dataframe\">\n",
       "  <thead>\n",
       "    <tr style=\"text-align: right;\">\n",
       "      <th></th>\n",
       "      <th>k</th>\n",
       "      <th>mark</th>\n",
       "      <th>mapk</th>\n",
       "      <th>f1_score</th>\n",
       "    </tr>\n",
       "  </thead>\n",
       "  <tbody>\n",
       "    <tr>\n",
       "      <th>0</th>\n",
       "      <td>1</td>\n",
       "      <td>0.857672</td>\n",
       "      <td>0.857672</td>\n",
       "      <td>0.857672</td>\n",
       "    </tr>\n",
       "    <tr>\n",
       "      <th>1</th>\n",
       "      <td>2</td>\n",
       "      <td>0.888312</td>\n",
       "      <td>0.888312</td>\n",
       "      <td>0.888312</td>\n",
       "    </tr>\n",
       "    <tr>\n",
       "      <th>2</th>\n",
       "      <td>3</td>\n",
       "      <td>0.894572</td>\n",
       "      <td>0.894572</td>\n",
       "      <td>0.894572</td>\n",
       "    </tr>\n",
       "    <tr>\n",
       "      <th>3</th>\n",
       "      <td>4</td>\n",
       "      <td>0.897475</td>\n",
       "      <td>0.897475</td>\n",
       "      <td>0.897475</td>\n",
       "    </tr>\n",
       "    <tr>\n",
       "      <th>4</th>\n",
       "      <td>5</td>\n",
       "      <td>0.898958</td>\n",
       "      <td>0.898958</td>\n",
       "      <td>0.898958</td>\n",
       "    </tr>\n",
       "  </tbody>\n",
       "</table>\n",
       "</div>"
      ],
      "text/plain": [
       "   k      mark      mapk  f1_score\n",
       "0  1  0.857672  0.857672  0.857672\n",
       "1  2  0.888312  0.888312  0.888312\n",
       "2  3  0.894572  0.894572  0.894572\n",
       "3  4  0.897475  0.897475  0.897475\n",
       "4  5  0.898958  0.898958  0.898958"
      ]
     },
     "execution_count": 8,
     "metadata": {},
     "output_type": "execute_result"
    }
   ],
   "source": [
    "get_pivot_table(actual_list, predict_list, top_k=5)"
   ]
  },
  {
   "cell_type": "code",
   "execution_count": 9,
   "metadata": {},
   "outputs": [
    {
     "name": "stderr",
     "output_type": "stream",
     "text": [
      "/home/evgen/desktop/ranker/matcher/matcher.py:60: UserWarning: To copy construct from a tensor, it is recommended to use sourceTensor.clone().detach() or sourceTensor.clone().detach().requires_grad_(True), rather than torch.tensor(sourceTensor).\n",
      "  return torch.tensor(self.embedder.encode(sentences=texts, convert_to_tensor=True)).clone().detach()\n"
     ]
    },
    {
     "data": {
      "text/plain": [
       "[{'local_name': 'Varicella Zoster Virus, IgG', 'score': 0.8591366},\n",
       " {'local_name': 'Varicella Zoster Virus, IgA', 'score': 0.7878473},\n",
       " {'local_name': 'Varicella Zoster Virus, IgM', 'score': 0.771694},\n",
       " {'local_name': 'Антитела к нуклеосомам класса IgG', 'score': 0.76468045},\n",
       " {'local_name': 'Антитела к Poliomyelitis virus, IgG', 'score': 0.70515966}]"
      ]
     },
     "execution_count": 9,
     "metadata": {},
     "output_type": "execute_result"
    }
   ],
   "source": [
    "model.get_top_k(\"Антитела класса IgG к вирусу Varicella-Zoster\", top_k=5)"
   ]
  },
  {
   "cell_type": "code",
   "execution_count": 10,
   "metadata": {},
   "outputs": [
    {
     "data": {
      "text/plain": [
       "[{'local_name': 'Взятие крови из пальца', 'score': 0.6224702},\n",
       " {'local_name': 'Панель X-Registar кровь', 'score': 0.6061321},\n",
       " {'local_name': 'Взятие венозной крови', 'score': 0.6008311},\n",
       " {'local_name': 'Время свертывания крови и длительность кровотечения',\n",
       "  'score': 0.5856257},\n",
       " {'local_name': 'Взятие крови из пятки', 'score': 0.5807512}]"
      ]
     },
     "execution_count": 10,
     "metadata": {},
     "output_type": "execute_result"
    }
   ],
   "source": [
    "model.get_top_k(\"Кровь\", top_k=5)"
   ]
  },
  {
   "cell_type": "code",
   "execution_count": 11,
   "metadata": {},
   "outputs": [
    {
     "data": {
      "text/plain": [
       "[{'local_name': 'Анализ крови на органические кислоты', 'score': 0.74609447},\n",
       " {'local_name': 'Анализ крови на аминокислоты (13 показателей)',\n",
       "  'score': 0.7190759},\n",
       " {'local_name': 'Клинический анализ крови (c лейкоцитарной формулой)',\n",
       "  'score': 0.7185571},\n",
       " {'local_name': 'Анализ крови на ацилкарнитины (взрослые)',\n",
       "  'score': 0.71110886},\n",
       " {'local_name': 'Клинический и биохимический анализы крови - основные показатели',\n",
       "  'score': 0.7096769}]"
      ]
     },
     "execution_count": 11,
     "metadata": {},
     "output_type": "execute_result"
    }
   ],
   "source": [
    "model.get_top_k(\"Анализ крови\", top_k=5)"
   ]
  }
 ],
 "metadata": {
  "kernelspec": {
   "display_name": ".venv",
   "language": "python",
   "name": "python3"
  },
  "language_info": {
   "codemirror_mode": {
    "name": "ipython",
    "version": 3
   },
   "file_extension": ".py",
   "mimetype": "text/x-python",
   "name": "python",
   "nbconvert_exporter": "python",
   "pygments_lexer": "ipython3",
   "version": "3.10.12"
  }
 },
 "nbformat": 4,
 "nbformat_minor": 2
}

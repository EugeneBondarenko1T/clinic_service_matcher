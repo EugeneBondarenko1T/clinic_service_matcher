{
 "cells": [
  {
   "cell_type": "code",
   "execution_count": null,
   "metadata": {},
   "outputs": [],
   "source": [
    "import os\n",
    "os.environ['CUDA_VISIBLE_DEVICES'] = '0'\n",
    "from matcher.matcher_sentence_pair import MatcherSentencePairClassification\n",
    "from configs.parametrs_for_training import ParametrsTraining"
   ]
  },
  {
   "cell_type": "code",
   "execution_count": null,
   "metadata": {},
   "outputs": [],
   "source": [
    "config = ParametrsTraining()\n",
    "preprocessor = MatcherSentencePairClassification(path2dataset=\"data/data.csv\",\n",
    "                                                 tokenizer_name=\"roberta-base\",\n",
    "                                                 num_labels=2,\n",
    "                                                 config=config)"
   ]
  },
  {
   "cell_type": "code",
   "execution_count": 3,
   "metadata": {},
   "outputs": [],
   "source": [
    "data = preprocessor.get_dataset_with_negative_samples(path_save=\"data/data_for_sentence_pair_classification/data\", \n",
    "                                                      question_col=\"service_name\", \n",
    "                                                      context_col=\"local_name\",\n",
    "                                                      save_dataset=False)"
   ]
  },
  {
   "cell_type": "code",
   "execution_count": null,
   "metadata": {},
   "outputs": [],
   "source": [
    "preprocessor.get_dict_for_training(test_size=0.2, \n",
    "                                   random_state=42, \n",
    "                                   save_path=\"data/data_for_sentence_pair_classification\")"
   ]
  },
  {
   "cell_type": "code",
   "execution_count": null,
   "metadata": {},
   "outputs": [],
   "source": [
    "tokenized_dataset = preprocessor.get_tokenized_dataset(data_files={\n",
    "    \"train\": \"data/data_for_sentence_pair_classification/train.jsonl\",\n",
    "    \"valid\": \"data/data_for_sentence_pair_classification/valid.jsonl\"\n",
    "})"
   ]
  },
  {
   "cell_type": "code",
   "execution_count": null,
   "metadata": {},
   "outputs": [],
   "source": [
    "preprocessor.train(tokenized_dataset=tokenized_dataset)"
   ]
  }
 ],
 "metadata": {
  "kernelspec": {
   "display_name": ".venv",
   "language": "python",
   "name": "python3"
  },
  "language_info": {
   "codemirror_mode": {
    "name": "ipython",
    "version": 3
   },
   "file_extension": ".py",
   "mimetype": "text/x-python",
   "name": "python",
   "nbconvert_exporter": "python",
   "pygments_lexer": "ipython3",
   "version": "3.10.12"
  }
 },
 "nbformat": 4,
 "nbformat_minor": 2
}
